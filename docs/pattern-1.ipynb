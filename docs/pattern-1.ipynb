{
 "cells": [
  {
   "cell_type": "code",
   "execution_count": 20,
   "id": "49711fee",
   "metadata": {},
   "outputs": [
    {
     "name": "stdout",
     "output_type": "stream",
     "text": [
      "The autoreload extension is already loaded. To reload it, use:\n",
      "  %reload_ext autoreload\n"
     ]
    }
   ],
   "source": [
    "%load_ext autoreload\n",
    "%autoreload 2\n",
    "\n",
    "pattern = \"pattern-1\"\n",
    "\n",
    "entrypoint = pattern\n",
    "app_cwl_file = f\"../cwl-workflow/{pattern}.cwl\"\n",
    "\n",
    "try:\n",
    "    from docs.helpers import plot_cwl, wrap_cwl\n",
    "except (ImportError, ModuleNotFoundError) as e:\n",
    "\n",
    "    import os\n",
    "    import sys\n",
    "\n",
    "    module_path = os.path.abspath(os.path.join(\".\"))  # or the path to your source code\n",
    "    sys.path.insert(0, module_path)\n",
    "\n",
    "from helpers import WorkflowViewer, WorkflowWrapper\n",
    "from cwl_loader import dump_cwl\n",
    "from pathlib import Path\n",
    "from IPython.display import Markdown, display\n",
    "import json"
   ]
  },
  {
   "cell_type": "code",
   "execution_count": 2,
   "id": "384acc8b",
   "metadata": {},
   "outputs": [
    {
     "name": "stderr",
     "output_type": "stream",
     "text": [
      "\u001b[32m2025-09-05 14:10:03.409\u001b[0m | \u001b[34m\u001b[1mDEBUG   \u001b[0m | \u001b[36mcwl_loader\u001b[0m:\u001b[36mload_cwl_from_location\u001b[0m:\u001b[36m196\u001b[0m - \u001b[34m\u001b[1mLoading CWL document from ../cwl-workflow/pattern-1.cwl...\u001b[0m\n",
      "\u001b[32m2025-09-05 14:10:03.410\u001b[0m | \u001b[34m\u001b[1mDEBUG   \u001b[0m | \u001b[36mcwl_loader\u001b[0m:\u001b[36m_load_cwl_from_stream\u001b[0m:\u001b[36m199\u001b[0m - \u001b[34m\u001b[1mReading stream from ../cwl-workflow/pattern-1.cwl...\u001b[0m\n",
      "\u001b[32m2025-09-05 14:10:03.445\u001b[0m | \u001b[34m\u001b[1mDEBUG   \u001b[0m | \u001b[36mcwl_loader\u001b[0m:\u001b[36mload_cwl_from_stream\u001b[0m:\u001b[36m173\u001b[0m - \u001b[34m\u001b[1mCWL data of type <class 'ruamel.yaml.comments.CommentedMap'> successfully loaded from stream\u001b[0m\n",
      "\u001b[32m2025-09-05 14:10:03.446\u001b[0m | \u001b[34m\u001b[1mDEBUG   \u001b[0m | \u001b[36mcwl_loader\u001b[0m:\u001b[36mload_cwl_from_yaml\u001b[0m:\u001b[36m124\u001b[0m - \u001b[34m\u001b[1mUpdating the model of type 'CommentedMap' to version 'v1.2'...\u001b[0m\n",
      "\u001b[32m2025-09-05 14:10:03.453\u001b[0m | \u001b[34m\u001b[1mDEBUG   \u001b[0m | \u001b[36mcwl_loader\u001b[0m:\u001b[36mload_cwl_from_yaml\u001b[0m:\u001b[36m135\u001b[0m - \u001b[34m\u001b[1mRaw CWL document successfully updated to v1.2! Now converting to the CWL model...\u001b[0m\n",
      "\u001b[32m2025-09-05 14:10:03.467\u001b[0m | \u001b[34m\u001b[1mDEBUG   \u001b[0m | \u001b[36mcwl_loader\u001b[0m:\u001b[36mload_cwl_from_yaml\u001b[0m:\u001b[36m143\u001b[0m - \u001b[34m\u001b[1mRaw CWL document successfully updated to v1.2! Now dereferencing the FQNs...\u001b[0m\n",
      "\u001b[32m2025-09-05 14:10:03.468\u001b[0m | \u001b[34m\u001b[1mDEBUG   \u001b[0m | \u001b[36mcwl_loader\u001b[0m:\u001b[36m_clean_process\u001b[0m:\u001b[36m66\u001b[0m - \u001b[34m\u001b[1m  Cleaning Workflow pattern-1...\u001b[0m\n",
      "\u001b[32m2025-09-05 14:10:03.469\u001b[0m | \u001b[34m\u001b[1mDEBUG   \u001b[0m | \u001b[36mcwl_loader\u001b[0m:\u001b[36m_clean_process\u001b[0m:\u001b[36m66\u001b[0m - \u001b[34m\u001b[1m  Cleaning CommandLineTool clt...\u001b[0m\n",
      "\u001b[32m2025-09-05 14:10:03.470\u001b[0m | \u001b[34m\u001b[1mDEBUG   \u001b[0m | \u001b[36mcwl_loader\u001b[0m:\u001b[36mload_cwl_from_yaml\u001b[0m:\u001b[36m151\u001b[0m - \u001b[34m\u001b[1mCWL document successfully dereferenced!\u001b[0m\n",
      "\u001b[32m2025-09-05 14:10:03.470\u001b[0m | \u001b[34m\u001b[1mDEBUG   \u001b[0m | \u001b[36mcwl_loader\u001b[0m:\u001b[36m_load_cwl_from_stream\u001b[0m:\u001b[36m207\u001b[0m - \u001b[34m\u001b[1mStream from ../cwl-workflow/pattern-1.cwl successfully load!\u001b[0m\n"
     ]
    }
   ],
   "source": [
    "wf = WorkflowViewer.from_file(app_cwl_file, entrypoint)"
   ]
  },
  {
   "cell_type": "markdown",
   "id": "9a0e0139",
   "metadata": {},
   "source": [
    "## Application Package Pattern \n",
    "\n",
    "The CWL includes: \n",
    "\n",
    "- one input parameter of type `Directory`\n",
    "- one output parameter of type `Directory`\n",
    "\n",
    "This scenario typically takes one input, applies an algorithm and produces a result\n",
    "\n",
    "Implementation: delineate water bodies using NDWI and Otsu automatic threshold taking as input a Landsat-8/9 acquisition"
   ]
  },
  {
   "cell_type": "code",
   "execution_count": 3,
   "id": "b72822ec",
   "metadata": {},
   "outputs": [
    {
     "data": {
      "image/svg+xml": [
       "<?xml version=\"1.0\" encoding=\"UTF-8\" standalone=\"no\"?>\n",
       "<!DOCTYPE svg PUBLIC \"-//W3C//DTD SVG 1.1//EN\"\n",
       " \"http://www.w3.org/Graphics/SVG/1.1/DTD/svg11.dtd\">\n",
       "<!-- Generated by graphviz version 2.43.0 (0)\n",
       " -->\n",
       "<!-- Title: G Pages: 1 -->\n",
       "<svg width=\"577pt\" height=\"248pt\"\n",
       " viewBox=\"0.00 0.00 577.00 248.00\" xmlns=\"http://www.w3.org/2000/svg\" xmlns:xlink=\"http://www.w3.org/1999/xlink\">\n",
       "<g id=\"graph0\" class=\"graph\" transform=\"scale(1 1) rotate(0) translate(4 244)\">\n",
       "<title>G</title>\n",
       "<polygon fill=\"#eeeeee\" stroke=\"transparent\" points=\"-4,4 -4,-244 573,-244 573,4 -4,4\"/>\n",
       "<g id=\"clust1\" class=\"cluster\">\n",
       "<title>cluster_inputs</title>\n",
       "<polygon fill=\"#eeeeee\" stroke=\"black\" stroke-dasharray=\"5,2\" points=\"8,-156 8,-232 561,-232 561,-156 8,-156\"/>\n",
       "<text text-anchor=\"middle\" x=\"494.5\" y=\"-163.8\" font-family=\"Times,serif\" font-size=\"14.00\">Workflow Inputs</text>\n",
       "</g>\n",
       "<g id=\"clust2\" class=\"cluster\">\n",
       "<title>cluster_outputs</title>\n",
       "<polygon fill=\"#eeeeee\" stroke=\"black\" stroke-dasharray=\"5,2\" points=\"188,-8 188,-84 386,-84 386,-8 188,-8\"/>\n",
       "<text text-anchor=\"middle\" x=\"313.5\" y=\"-15.8\" font-family=\"Times,serif\" font-size=\"14.00\">Workflow Outputs</text>\n",
       "</g>\n",
       "<!-- pattern&#45;1/aoi -->\n",
       "<g id=\"node1\" class=\"node\">\n",
       "<title>pattern&#45;1/aoi</title>\n",
       "<polygon fill=\"#94ddf4\" stroke=\"black\" points=\"443.5,-187.5 443.5,-223.5 552.5,-223.5 552.5,-187.5 443.5,-187.5\"/>\n",
       "<text text-anchor=\"middle\" x=\"498\" y=\"-201.8\" font-family=\"Times,serif\" font-size=\"14.00\">pattern&#45;1/aoi</text>\n",
       "</g>\n",
       "<!-- pattern&#45;1/step -->\n",
       "<g id=\"node5\" class=\"node\">\n",
       "<title>pattern&#45;1/step</title>\n",
       "<ellipse fill=\"none\" stroke=\"black\" cx=\"287\" cy=\"-130\" rx=\"77.19\" ry=\"18\"/>\n",
       "<text text-anchor=\"middle\" x=\"287\" y=\"-126.3\" font-family=\"Times,serif\" font-size=\"14.00\">pattern&#45;1/step</text>\n",
       "</g>\n",
       "<!-- pattern&#45;1/aoi&#45;&gt;pattern&#45;1/step -->\n",
       "<g id=\"edge1\" class=\"edge\">\n",
       "<title>pattern&#45;1/aoi&#45;&gt;pattern&#45;1/step</title>\n",
       "<path fill=\"none\" stroke=\"black\" d=\"M480.79,-187.47C468.91,-176.73 452.2,-163.51 435,-156 414.7,-147.14 391.57,-141.4 369.73,-137.7\"/>\n",
       "<polygon fill=\"black\" stroke=\"black\" points=\"370.22,-134.23 359.79,-136.14 369.13,-141.15 370.22,-134.23\"/>\n",
       "</g>\n",
       "<!-- pattern&#45;1/bands -->\n",
       "<g id=\"node2\" class=\"node\">\n",
       "<title>pattern&#45;1/bands</title>\n",
       "<polygon fill=\"#94ddf4\" stroke=\"black\" points=\"294.5,-187.5 294.5,-223.5 425.5,-223.5 425.5,-187.5 294.5,-187.5\"/>\n",
       "<text text-anchor=\"middle\" x=\"360\" y=\"-201.8\" font-family=\"Times,serif\" font-size=\"14.00\">pattern&#45;1/bands</text>\n",
       "</g>\n",
       "<!-- pattern&#45;1/bands&#45;&gt;pattern&#45;1/step -->\n",
       "<g id=\"edge2\" class=\"edge\">\n",
       "<title>pattern&#45;1/bands&#45;&gt;pattern&#45;1/step</title>\n",
       "<path fill=\"none\" stroke=\"black\" d=\"M343.07,-187.45C333.51,-177.83 321.41,-165.65 310.9,-155.06\"/>\n",
       "<polygon fill=\"black\" stroke=\"black\" points=\"313.12,-152.33 303.59,-147.7 308.15,-157.26 313.12,-152.33\"/>\n",
       "</g>\n",
       "<!-- pattern&#45;1/epsg -->\n",
       "<g id=\"node3\" class=\"node\">\n",
       "<title>pattern&#45;1/epsg</title>\n",
       "<polygon fill=\"#94ddf4\" stroke=\"black\" points=\"154,-187.5 154,-223.5 276,-223.5 276,-187.5 154,-187.5\"/>\n",
       "<text text-anchor=\"middle\" x=\"215\" y=\"-201.8\" font-family=\"Times,serif\" font-size=\"14.00\">pattern&#45;1/epsg</text>\n",
       "</g>\n",
       "<!-- pattern&#45;1/epsg&#45;&gt;pattern&#45;1/step -->\n",
       "<g id=\"edge3\" class=\"edge\">\n",
       "<title>pattern&#45;1/epsg&#45;&gt;pattern&#45;1/step</title>\n",
       "<path fill=\"none\" stroke=\"black\" d=\"M231.7,-187.45C241.13,-177.83 253.06,-165.65 263.43,-155.06\"/>\n",
       "<polygon fill=\"black\" stroke=\"black\" points=\"266.14,-157.29 270.64,-147.7 261.14,-152.4 266.14,-157.29\"/>\n",
       "</g>\n",
       "<!-- pattern&#45;1/item -->\n",
       "<g id=\"node4\" class=\"node\">\n",
       "<title>pattern&#45;1/item</title>\n",
       "<polygon fill=\"#94ddf4\" stroke=\"black\" points=\"16,-187.5 16,-223.5 136,-223.5 136,-187.5 16,-187.5\"/>\n",
       "<text text-anchor=\"middle\" x=\"76\" y=\"-201.8\" font-family=\"Times,serif\" font-size=\"14.00\">pattern&#45;1/item</text>\n",
       "</g>\n",
       "<!-- pattern&#45;1/item&#45;&gt;pattern&#45;1/step -->\n",
       "<g id=\"edge4\" class=\"edge\">\n",
       "<title>pattern&#45;1/item&#45;&gt;pattern&#45;1/step</title>\n",
       "<path fill=\"none\" stroke=\"black\" d=\"M95.44,-187.32C108.55,-176.65 126.74,-163.58 145,-156 164.07,-148.08 185.6,-142.67 206.02,-138.97\"/>\n",
       "<polygon fill=\"black\" stroke=\"black\" points=\"206.66,-142.41 215.94,-137.29 205.49,-135.51 206.66,-142.41\"/>\n",
       "</g>\n",
       "<!-- pattern&#45;1/water_bodies -->\n",
       "<g id=\"node6\" class=\"node\">\n",
       "<title>pattern&#45;1/water_bodies</title>\n",
       "<polygon fill=\"#94ddf4\" stroke=\"black\" points=\"196,-39.5 196,-75.5 378,-75.5 378,-39.5 196,-39.5\"/>\n",
       "<text text-anchor=\"middle\" x=\"287\" y=\"-53.8\" font-family=\"Times,serif\" font-size=\"14.00\">pattern&#45;1/water_bodies</text>\n",
       "</g>\n",
       "<!-- pattern&#45;1/step&#45;&gt;pattern&#45;1/water_bodies -->\n",
       "<g id=\"edge5\" class=\"edge\">\n",
       "<title>pattern&#45;1/step&#45;&gt;pattern&#45;1/water_bodies</title>\n",
       "<path fill=\"none\" stroke=\"black\" d=\"M287,-111.93C287,-104.17 287,-94.78 287,-86.06\"/>\n",
       "<polygon fill=\"black\" stroke=\"black\" points=\"290.5,-85.9 287,-75.9 283.5,-85.9 290.5,-85.9\"/>\n",
       "</g>\n",
       "</g>\n",
       "</svg>\n"
      ],
      "text/plain": [
       "<graphviz.sources.Source at 0x7e1ed3f8f0e0>"
      ]
     },
     "execution_count": 3,
     "metadata": {},
     "output_type": "execute_result"
    }
   ],
   "source": [
    "wf.plot()"
   ]
  },
  {
   "cell_type": "markdown",
   "id": "485b5d93",
   "metadata": {},
   "source": [
    "### Inputs"
   ]
  },
  {
   "cell_type": "code",
   "execution_count": 4,
   "id": "1f48503f",
   "metadata": {},
   "outputs": [
    {
     "data": {
      "text/markdown": [
       "| Id | Type | Label | Doc |\n",
       "| --- | --- | --- | --- |\n",
       "| `aoi` | `string` | area of interest | area of interest as a bounding box |\n",
       "| `epsg` | `string` | EPSG code | EPSG code |\n",
       "| `bands` | `string[]` | bands used for the NDWI | bands used for the NDWI |\n",
       "| `item` | `Directory` | Landsat-8/9 acquisition reference | Landsat-8/9 acquisition reference |\n"
      ],
      "text/plain": [
       "<IPython.core.display.Markdown object>"
      ]
     },
     "metadata": {},
     "output_type": "display_data"
    }
   ],
   "source": [
    "wf.display_inputs()"
   ]
  },
  {
   "cell_type": "markdown",
   "id": "3a8f25c8",
   "metadata": {},
   "source": [
    "### Steps"
   ]
  },
  {
   "cell_type": "code",
   "execution_count": 5,
   "id": "754d5444",
   "metadata": {},
   "outputs": [
    {
     "data": {
      "text/markdown": [
       "| Id | Runs | Label | Doc |\n",
       "| --- | --- | --- | --- |\n",
       "| `step` | `#clt` | Water bodies detection | Water bodies detection based on NDWI and otsu threshold applied to a single Landsat-8/9 acquisition |\n"
      ],
      "text/plain": [
       "<IPython.core.display.Markdown object>"
      ]
     },
     "metadata": {},
     "output_type": "display_data"
    }
   ],
   "source": [
    "wf.display_steps()"
   ]
  },
  {
   "cell_type": "markdown",
   "id": "d5e08fbb",
   "metadata": {},
   "source": [
    "### Outputs"
   ]
  },
  {
   "cell_type": "code",
   "execution_count": 6,
   "id": "9d819c9d",
   "metadata": {},
   "outputs": [
    {
     "data": {
      "text/markdown": [
       "| Id | Type | Label | Doc |\n",
       "| --- | --- | --- | --- |\n",
       "| `water_bodies` | `Directory` | Water bodies detected | Water bodies detected based on the NDWI and otsu threshold |\n"
      ],
      "text/plain": [
       "<IPython.core.display.Markdown object>"
      ]
     },
     "metadata": {},
     "output_type": "display_data"
    }
   ],
   "source": [
    "wf.display_outputs()"
   ]
  },
  {
   "cell_type": "markdown",
   "id": "5ee7cc28",
   "metadata": {},
   "source": [
    "## Data flow management"
   ]
  },
  {
   "cell_type": "code",
   "execution_count": 7,
   "id": "28b9c9ce",
   "metadata": {},
   "outputs": [
    {
     "name": "stderr",
     "output_type": "stream",
     "text": [
      "\u001b[32m2025-09-05 14:10:04.506\u001b[0m | \u001b[34m\u001b[1mDEBUG   \u001b[0m | \u001b[36mcwl_loader\u001b[0m:\u001b[36mload_cwl_from_location\u001b[0m:\u001b[36m196\u001b[0m - \u001b[34m\u001b[1mLoading CWL document from https://raw.githubusercontent.com/eoap/application-package-patterns/refs/heads/develop/templates/stage-in.cwl...\u001b[0m\n",
      "\u001b[32m2025-09-05 14:10:04.725\u001b[0m | \u001b[34m\u001b[1mDEBUG   \u001b[0m | \u001b[36mcwl_loader\u001b[0m:\u001b[36m_load_cwl_from_stream\u001b[0m:\u001b[36m199\u001b[0m - \u001b[34m\u001b[1mReading stream from https://raw.githubusercontent.com/eoap/application-package-patterns/refs/heads/develop/templates/stage-in.cwl...\u001b[0m\n",
      "\u001b[32m2025-09-05 14:10:04.733\u001b[0m | \u001b[34m\u001b[1mDEBUG   \u001b[0m | \u001b[36mcwl_loader\u001b[0m:\u001b[36mload_cwl_from_stream\u001b[0m:\u001b[36m173\u001b[0m - \u001b[34m\u001b[1mCWL data of type <class 'ruamel.yaml.comments.CommentedMap'> successfully loaded from stream\u001b[0m\n",
      "\u001b[32m2025-09-05 14:10:04.734\u001b[0m | \u001b[34m\u001b[1mDEBUG   \u001b[0m | \u001b[36mcwl_loader\u001b[0m:\u001b[36mload_cwl_from_yaml\u001b[0m:\u001b[36m124\u001b[0m - \u001b[34m\u001b[1mUpdating the model of type 'CommentedMap' to version 'v1.2'...\u001b[0m\n",
      "\u001b[32m2025-09-05 14:10:04.734\u001b[0m | \u001b[34m\u001b[1mDEBUG   \u001b[0m | \u001b[36mcwl_loader\u001b[0m:\u001b[36mload_cwl_from_yaml\u001b[0m:\u001b[36m135\u001b[0m - \u001b[34m\u001b[1mRaw CWL document successfully updated to v1.2! Now converting to the CWL model...\u001b[0m\n",
      "\u001b[32m2025-09-05 14:10:05.650\u001b[0m | \u001b[34m\u001b[1mDEBUG   \u001b[0m | \u001b[36mcwl_loader\u001b[0m:\u001b[36mload_cwl_from_yaml\u001b[0m:\u001b[36m143\u001b[0m - \u001b[34m\u001b[1mRaw CWL document successfully updated to v1.2! Now dereferencing the FQNs...\u001b[0m\n",
      "\u001b[32m2025-09-05 14:10:05.651\u001b[0m | \u001b[34m\u001b[1mDEBUG   \u001b[0m | \u001b[36mcwl_loader\u001b[0m:\u001b[36m_clean_process\u001b[0m:\u001b[36m66\u001b[0m - \u001b[34m\u001b[1m  Cleaning CommandLineTool my-asthonishing-stage-in-directory...\u001b[0m\n",
      "\u001b[32m2025-09-05 14:10:05.652\u001b[0m | \u001b[34m\u001b[1mDEBUG   \u001b[0m | \u001b[36mcwl_loader\u001b[0m:\u001b[36mload_cwl_from_yaml\u001b[0m:\u001b[36m151\u001b[0m - \u001b[34m\u001b[1mCWL document successfully dereferenced!\u001b[0m\n",
      "\u001b[32m2025-09-05 14:10:05.652\u001b[0m | \u001b[34m\u001b[1mDEBUG   \u001b[0m | \u001b[36mcwl_loader\u001b[0m:\u001b[36m_load_cwl_from_stream\u001b[0m:\u001b[36m207\u001b[0m - \u001b[34m\u001b[1mStream from https://raw.githubusercontent.com/eoap/application-package-patterns/refs/heads/develop/templates/stage-in.cwl successfully load!\u001b[0m\n",
      "\u001b[32m2025-09-05 14:10:05.653\u001b[0m | \u001b[34m\u001b[1mDEBUG   \u001b[0m | \u001b[36mcwl_loader\u001b[0m:\u001b[36mload_cwl_from_location\u001b[0m:\u001b[36m196\u001b[0m - \u001b[34m\u001b[1mLoading CWL document from https://raw.githubusercontent.com/eoap/application-package-patterns/refs/heads/develop/templates/stage-in-file.cwl...\u001b[0m\n",
      "\u001b[32m2025-09-05 14:10:05.851\u001b[0m | \u001b[34m\u001b[1mDEBUG   \u001b[0m | \u001b[36mcwl_loader\u001b[0m:\u001b[36m_load_cwl_from_stream\u001b[0m:\u001b[36m199\u001b[0m - \u001b[34m\u001b[1mReading stream from https://raw.githubusercontent.com/eoap/application-package-patterns/refs/heads/develop/templates/stage-in-file.cwl...\u001b[0m\n",
      "\u001b[32m2025-09-05 14:10:05.860\u001b[0m | \u001b[34m\u001b[1mDEBUG   \u001b[0m | \u001b[36mcwl_loader\u001b[0m:\u001b[36mload_cwl_from_stream\u001b[0m:\u001b[36m173\u001b[0m - \u001b[34m\u001b[1mCWL data of type <class 'ruamel.yaml.comments.CommentedMap'> successfully loaded from stream\u001b[0m\n",
      "\u001b[32m2025-09-05 14:10:05.861\u001b[0m | \u001b[34m\u001b[1mDEBUG   \u001b[0m | \u001b[36mcwl_loader\u001b[0m:\u001b[36mload_cwl_from_yaml\u001b[0m:\u001b[36m124\u001b[0m - \u001b[34m\u001b[1mUpdating the model of type 'CommentedMap' to version 'v1.2'...\u001b[0m\n",
      "\u001b[32m2025-09-05 14:10:05.861\u001b[0m | \u001b[34m\u001b[1mDEBUG   \u001b[0m | \u001b[36mcwl_loader\u001b[0m:\u001b[36mload_cwl_from_yaml\u001b[0m:\u001b[36m135\u001b[0m - \u001b[34m\u001b[1mRaw CWL document successfully updated to v1.2! Now converting to the CWL model...\u001b[0m\n",
      "\u001b[32m2025-09-05 14:10:06.715\u001b[0m | \u001b[34m\u001b[1mDEBUG   \u001b[0m | \u001b[36mcwl_loader\u001b[0m:\u001b[36mload_cwl_from_yaml\u001b[0m:\u001b[36m143\u001b[0m - \u001b[34m\u001b[1mRaw CWL document successfully updated to v1.2! Now dereferencing the FQNs...\u001b[0m\n",
      "\u001b[32m2025-09-05 14:10:06.716\u001b[0m | \u001b[34m\u001b[1mDEBUG   \u001b[0m | \u001b[36mcwl_loader\u001b[0m:\u001b[36m_clean_process\u001b[0m:\u001b[36m66\u001b[0m - \u001b[34m\u001b[1m  Cleaning CommandLineTool my-asthonishing-stage-in-file...\u001b[0m\n",
      "\u001b[32m2025-09-05 14:10:06.717\u001b[0m | \u001b[34m\u001b[1mDEBUG   \u001b[0m | \u001b[36mcwl_loader\u001b[0m:\u001b[36mload_cwl_from_yaml\u001b[0m:\u001b[36m151\u001b[0m - \u001b[34m\u001b[1mCWL document successfully dereferenced!\u001b[0m\n",
      "\u001b[32m2025-09-05 14:10:06.718\u001b[0m | \u001b[34m\u001b[1mDEBUG   \u001b[0m | \u001b[36mcwl_loader\u001b[0m:\u001b[36m_load_cwl_from_stream\u001b[0m:\u001b[36m207\u001b[0m - \u001b[34m\u001b[1mStream from https://raw.githubusercontent.com/eoap/application-package-patterns/refs/heads/develop/templates/stage-in-file.cwl successfully load!\u001b[0m\n",
      "\u001b[32m2025-09-05 14:10:06.718\u001b[0m | \u001b[34m\u001b[1mDEBUG   \u001b[0m | \u001b[36mcwl_loader\u001b[0m:\u001b[36mload_cwl_from_location\u001b[0m:\u001b[36m196\u001b[0m - \u001b[34m\u001b[1mLoading CWL document from https://raw.githubusercontent.com/eoap/application-package-patterns/refs/heads/develop/templates/stage-out.cwl...\u001b[0m\n",
      "\u001b[32m2025-09-05 14:10:06.904\u001b[0m | \u001b[34m\u001b[1mDEBUG   \u001b[0m | \u001b[36mcwl_loader\u001b[0m:\u001b[36m_load_cwl_from_stream\u001b[0m:\u001b[36m199\u001b[0m - \u001b[34m\u001b[1mReading stream from https://raw.githubusercontent.com/eoap/application-package-patterns/refs/heads/develop/templates/stage-out.cwl...\u001b[0m\n",
      "\u001b[32m2025-09-05 14:10:06.914\u001b[0m | \u001b[34m\u001b[1mDEBUG   \u001b[0m | \u001b[36mcwl_loader\u001b[0m:\u001b[36mload_cwl_from_stream\u001b[0m:\u001b[36m173\u001b[0m - \u001b[34m\u001b[1mCWL data of type <class 'ruamel.yaml.comments.CommentedMap'> successfully loaded from stream\u001b[0m\n",
      "\u001b[32m2025-09-05 14:10:06.915\u001b[0m | \u001b[34m\u001b[1mDEBUG   \u001b[0m | \u001b[36mcwl_loader\u001b[0m:\u001b[36mload_cwl_from_yaml\u001b[0m:\u001b[36m124\u001b[0m - \u001b[34m\u001b[1mUpdating the model of type 'CommentedMap' to version 'v1.2'...\u001b[0m\n",
      "\u001b[32m2025-09-05 14:10:06.916\u001b[0m | \u001b[34m\u001b[1mDEBUG   \u001b[0m | \u001b[36mcwl_loader\u001b[0m:\u001b[36mload_cwl_from_yaml\u001b[0m:\u001b[36m135\u001b[0m - \u001b[34m\u001b[1mRaw CWL document successfully updated to v1.2! Now converting to the CWL model...\u001b[0m\n",
      "\u001b[32m2025-09-05 14:10:07.879\u001b[0m | \u001b[34m\u001b[1mDEBUG   \u001b[0m | \u001b[36mcwl_loader\u001b[0m:\u001b[36mload_cwl_from_yaml\u001b[0m:\u001b[36m143\u001b[0m - \u001b[34m\u001b[1mRaw CWL document successfully updated to v1.2! Now dereferencing the FQNs...\u001b[0m\n",
      "\u001b[32m2025-09-05 14:10:07.880\u001b[0m | \u001b[34m\u001b[1mDEBUG   \u001b[0m | \u001b[36mcwl_loader\u001b[0m:\u001b[36m_clean_process\u001b[0m:\u001b[36m66\u001b[0m - \u001b[34m\u001b[1m  Cleaning CommandLineTool my-super-stage-out...\u001b[0m\n",
      "\u001b[32m2025-09-05 14:10:07.881\u001b[0m | \u001b[34m\u001b[1mDEBUG   \u001b[0m | \u001b[36mcwl_loader\u001b[0m:\u001b[36mload_cwl_from_yaml\u001b[0m:\u001b[36m151\u001b[0m - \u001b[34m\u001b[1mCWL document successfully dereferenced!\u001b[0m\n",
      "\u001b[32m2025-09-05 14:10:07.881\u001b[0m | \u001b[34m\u001b[1mDEBUG   \u001b[0m | \u001b[36mcwl_loader\u001b[0m:\u001b[36m_load_cwl_from_stream\u001b[0m:\u001b[36m207\u001b[0m - \u001b[34m\u001b[1mStream from https://raw.githubusercontent.com/eoap/application-package-patterns/refs/heads/develop/templates/stage-out.cwl successfully load!\u001b[0m\n",
      "\u001b[32m2025-09-05 14:10:07.882\u001b[0m | \u001b[1mINFO    \u001b[0m | \u001b[36meoap_cwlwrap.types\u001b[0m:\u001b[36m_validate_stage_in\u001b[0m:\u001b[36m273\u001b[0m - \u001b[1mValidating stage-in 'my-asthonishing-stage-in-directory'...\u001b[0m\n",
      "\u001b[32m2025-09-05 14:10:07.882\u001b[0m | \u001b[1mINFO    \u001b[0m | \u001b[36meoap_cwlwrap.types\u001b[0m:\u001b[36m_validate_stage_in\u001b[0m:\u001b[36m295\u001b[0m - \u001b[1mstage-in 'my-asthonishing-stage-in-directory' is valid\u001b[0m\n",
      "\u001b[32m2025-09-05 14:10:07.883\u001b[0m | \u001b[1mINFO    \u001b[0m | \u001b[36meoap_cwlwrap.types\u001b[0m:\u001b[36m_validate_stage_in\u001b[0m:\u001b[36m273\u001b[0m - \u001b[1mValidating stage-in 'my-asthonishing-stage-in-file'...\u001b[0m\n",
      "\u001b[32m2025-09-05 14:10:07.883\u001b[0m | \u001b[1mINFO    \u001b[0m | \u001b[36meoap_cwlwrap.types\u001b[0m:\u001b[36m_validate_stage_in\u001b[0m:\u001b[36m295\u001b[0m - \u001b[1mstage-in 'my-asthonishing-stage-in-file' is valid\u001b[0m\n",
      "\u001b[32m2025-09-05 14:10:07.883\u001b[0m | \u001b[1mINFO    \u001b[0m | \u001b[36meoap_cwlwrap.types\u001b[0m:\u001b[36mvalidate_stage_out\u001b[0m:\u001b[36m331\u001b[0m - \u001b[1mValidating stage-out 'my-super-stage-out'...\u001b[0m\n",
      "\u001b[32m2025-09-05 14:10:07.884\u001b[0m | \u001b[1mINFO    \u001b[0m | \u001b[36meoap_cwlwrap.types\u001b[0m:\u001b[36mvalidate_stage_out\u001b[0m:\u001b[36m353\u001b[0m - \u001b[1mstage-out 'my-super-stage-out' is valid\u001b[0m\n",
      "\u001b[32m2025-09-05 14:10:07.884\u001b[0m | \u001b[1mINFO    \u001b[0m | \u001b[36meoap_cwlwrap\u001b[0m:\u001b[36m_build_orchestrator_workflow\u001b[0m:\u001b[36m90\u001b[0m - \u001b[1mBuilding the CWL Orchestrator Workflow...\u001b[0m\n",
      "\u001b[32m2025-09-05 14:10:07.885\u001b[0m | \u001b[1mINFO    \u001b[0m | \u001b[36meoap_cwlwrap\u001b[0m:\u001b[36m_build_orchestrator_workflow\u001b[0m:\u001b[36m119\u001b[0m - \u001b[1mAnalyzing pattern-1 inputs...\u001b[0m\n",
      "\u001b[32m2025-09-05 14:10:07.885\u001b[0m | \u001b[1mINFO    \u001b[0m | \u001b[36meoap_cwlwrap\u001b[0m:\u001b[36m_build_orchestrator_workflow\u001b[0m:\u001b[36m135\u001b[0m - \u001b[1m* pattern-1/aoi: string\u001b[0m\n",
      "\u001b[32m2025-09-05 14:10:07.886\u001b[0m | \u001b[1mINFO    \u001b[0m | \u001b[36meoap_cwlwrap\u001b[0m:\u001b[36m_build_orchestrator_workflow\u001b[0m:\u001b[36m135\u001b[0m - \u001b[1m* pattern-1/epsg: string\u001b[0m\n",
      "\u001b[32m2025-09-05 14:10:07.886\u001b[0m | \u001b[1mINFO    \u001b[0m | \u001b[36meoap_cwlwrap\u001b[0m:\u001b[36m_build_orchestrator_workflow\u001b[0m:\u001b[36m135\u001b[0m - \u001b[1m* pattern-1/bands: string[]\u001b[0m\n",
      "\u001b[32m2025-09-05 14:10:07.887\u001b[0m | \u001b[1mINFO    \u001b[0m | \u001b[36meoap_cwlwrap\u001b[0m:\u001b[36m_build_orchestrator_workflow\u001b[0m:\u001b[36m135\u001b[0m - \u001b[1m* pattern-1/item: Directory\u001b[0m\n",
      "\u001b[32m2025-09-05 14:10:07.887\u001b[0m | \u001b[1mINFO    \u001b[0m | \u001b[36meoap_cwlwrap\u001b[0m:\u001b[36m_build_orchestrator_workflow\u001b[0m:\u001b[36m148\u001b[0m - \u001b[1m  Directory type detected, creating a related 'directory_stage_in_0'...\u001b[0m\n",
      "\u001b[32m2025-09-05 14:10:07.888\u001b[0m | \u001b[1mINFO    \u001b[0m | \u001b[36meoap_cwlwrap\u001b[0m:\u001b[36m_build_orchestrator_workflow\u001b[0m:\u001b[36m150\u001b[0m - \u001b[1m  Converting Directory to URL-compatible type...\u001b[0m\n",
      "\u001b[32m2025-09-05 14:10:07.888\u001b[0m | \u001b[1mINFO    \u001b[0m | \u001b[36meoap_cwlwrap\u001b[0m:\u001b[36m_build_orchestrator_workflow\u001b[0m:\u001b[36m154\u001b[0m - \u001b[1m  Directory converted to https://raw.githubusercontent.com/eoap/schemas/main/string_format.yaml#URI\u001b[0m\n",
      "\u001b[32m2025-09-05 14:10:07.889\u001b[0m | \u001b[1mINFO    \u001b[0m | \u001b[36meoap_cwlwrap\u001b[0m:\u001b[36m_build_orchestrator_workflow\u001b[0m:\u001b[36m195\u001b[0m - \u001b[1m  Connecting 'app/item' to 'directory_stage_in_0' output...\u001b[0m\n",
      "\u001b[32m2025-09-05 14:10:07.889\u001b[0m | \u001b[1mINFO    \u001b[0m | \u001b[36meoap_cwlwrap\u001b[0m:\u001b[36m_build_orchestrator_workflow\u001b[0m:\u001b[36m246\u001b[0m - \u001b[1mAnalyzing pattern-1 outputs...\u001b[0m\n",
      "\u001b[32m2025-09-05 14:10:07.890\u001b[0m | \u001b[1mINFO    \u001b[0m | \u001b[36meoap_cwlwrap\u001b[0m:\u001b[36m_build_orchestrator_workflow\u001b[0m:\u001b[36m252\u001b[0m - \u001b[1m* pattern-1/water_bodies: Directory\u001b[0m\n",
      "\u001b[32m2025-09-05 14:10:07.890\u001b[0m | \u001b[1mINFO    \u001b[0m | \u001b[36meoap_cwlwrap\u001b[0m:\u001b[36m_build_orchestrator_workflow\u001b[0m:\u001b[36m257\u001b[0m - \u001b[1m  Directory type detected, creating a related 'stage_out_0'...\u001b[0m\n",
      "\u001b[32m2025-09-05 14:10:07.891\u001b[0m | \u001b[1mINFO    \u001b[0m | \u001b[36meoap_cwlwrap\u001b[0m:\u001b[36m_build_orchestrator_workflow\u001b[0m:\u001b[36m259\u001b[0m - \u001b[1m  Converting Directory to URL-compatible type...\u001b[0m\n",
      "\u001b[32m2025-09-05 14:10:07.891\u001b[0m | \u001b[1mINFO    \u001b[0m | \u001b[36meoap_cwlwrap\u001b[0m:\u001b[36m_build_orchestrator_workflow\u001b[0m:\u001b[36m263\u001b[0m - \u001b[1m  Directory converted to https://raw.githubusercontent.com/eoap/schemas/main/string_format.yaml#URI\u001b[0m\n",
      "\u001b[32m2025-09-05 14:10:07.892\u001b[0m | \u001b[1mINFO    \u001b[0m | \u001b[36meoap_cwlwrap\u001b[0m:\u001b[36m_build_orchestrator_workflow\u001b[0m:\u001b[36m304\u001b[0m - \u001b[1m  Connecting 'app/water_bodies' to 'stage_out_0' output...\u001b[0m\n",
      "\u001b[32m2025-09-05 14:10:07.893\u001b[0m | \u001b[1mINFO    \u001b[0m | \u001b[36meoap_cwlwrap\u001b[0m:\u001b[36m_build_orchestrator_workflow\u001b[0m:\u001b[36m379\u001b[0m - \u001b[1mOrchestrator Workflow built in 0.0089 seconds\u001b[0m\n"
     ]
    }
   ],
   "source": [
    "w = WorkflowWrapper(workflow=wf.workflow, entrypoint=entrypoint)\n",
    "wrapped = w.wrap()\n",
    "\n",
    "app_cwl_file = f\".{entrypoint}.cwl\"\n",
    "\n",
    "with open(app_cwl_file, \"w\") as f:\n",
    "    dump_cwl(process=wrapped, stream=f)"
   ]
  },
  {
   "cell_type": "code",
   "execution_count": 8,
   "id": "3e868052",
   "metadata": {},
   "outputs": [
    {
     "data": {
      "image/svg+xml": [
       "<?xml version=\"1.0\" encoding=\"UTF-8\" standalone=\"no\"?>\n",
       "<!DOCTYPE svg PUBLIC \"-//W3C//DTD SVG 1.1//EN\"\n",
       " \"http://www.w3.org/Graphics/SVG/1.1/DTD/svg11.dtd\">\n",
       "<!-- Generated by graphviz version 2.43.0 (0)\n",
       " -->\n",
       "<!-- Title: G Pages: 1 -->\n",
       "<svg width=\"1686pt\" height=\"395pt\"\n",
       " viewBox=\"0.00 0.00 1686.00 395.00\" xmlns=\"http://www.w3.org/2000/svg\" xmlns:xlink=\"http://www.w3.org/1999/xlink\">\n",
       "<g id=\"graph0\" class=\"graph\" transform=\"scale(1 1) rotate(0) translate(4 391)\">\n",
       "<title>G</title>\n",
       "<polygon fill=\"#eeeeee\" stroke=\"transparent\" points=\"-4,4 -4,-391 1682,-391 1682,4 -4,4\"/>\n",
       "<g id=\"clust1\" class=\"cluster\">\n",
       "<title>cluster_inputs</title>\n",
       "<polygon fill=\"#eeeeee\" stroke=\"black\" stroke-dasharray=\"5,2\" points=\"8,-303 8,-379 1670,-379 1670,-303 8,-303\"/>\n",
       "<text text-anchor=\"middle\" x=\"1603.5\" y=\"-310.8\" font-family=\"Times,serif\" font-size=\"14.00\">Workflow Inputs</text>\n",
       "</g>\n",
       "<g id=\"clust2\" class=\"cluster\">\n",
       "<title>cluster_outputs</title>\n",
       "<polygon fill=\"#eeeeee\" stroke=\"black\" stroke-dasharray=\"5,2\" points=\"1053,-8 1053,-84 1221,-84 1221,-8 1053,-8\"/>\n",
       "<text text-anchor=\"middle\" x=\"1148.5\" y=\"-15.8\" font-family=\"Times,serif\" font-size=\"14.00\">Workflow Outputs</text>\n",
       "</g>\n",
       "<!-- main/directory_stage_in_0 -->\n",
       "<g id=\"node1\" class=\"node\">\n",
       "<title>main/directory_stage_in_0</title>\n",
       "<polygon fill=\"lightgoldenrodyellow\" stroke=\"black\" points=\"313.5,-258.5 313.5,-294.5 516.5,-294.5 516.5,-258.5 313.5,-258.5\"/>\n",
       "<text text-anchor=\"middle\" x=\"415\" y=\"-272.8\" font-family=\"Times,serif\" font-size=\"14.00\">main/directory_stage_in_0</text>\n",
       "</g>\n",
       "<!-- main/app -->\n",
       "<g id=\"node2\" class=\"node\">\n",
       "<title>main/app</title>\n",
       "<polygon fill=\"#f3cea1\" stroke=\"black\" points=\"42,-185.5 42,-221.5 506,-221.5 506,-185.5 42,-185.5\"/>\n",
       "<text text-anchor=\"middle\" x=\"274\" y=\"-199.8\" font-family=\"Times,serif\" font-size=\"14.00\">Water bodies detection based on NDWI and the otsu threshold</text>\n",
       "</g>\n",
       "<!-- main/directory_stage_in_0&#45;&gt;main/app -->\n",
       "<g id=\"edge1\" class=\"edge\">\n",
       "<title>main/directory_stage_in_0&#45;&gt;main/app</title>\n",
       "<path fill=\"none\" stroke=\"black\" d=\"M381.23,-258.49C362.01,-248.82 337.74,-236.6 317.15,-226.23\"/>\n",
       "<polygon fill=\"black\" stroke=\"black\" points=\"318.49,-222.99 307.99,-221.61 315.34,-229.24 318.49,-222.99\"/>\n",
       "</g>\n",
       "<!-- main/stage_out_0 -->\n",
       "<g id=\"node3\" class=\"node\">\n",
       "<title>main/stage_out_0</title>\n",
       "<polygon fill=\"lightgoldenrodyellow\" stroke=\"black\" points=\"1066.5,-112.5 1066.5,-148.5 1207.5,-148.5 1207.5,-112.5 1066.5,-112.5\"/>\n",
       "<text text-anchor=\"middle\" x=\"1137\" y=\"-126.8\" font-family=\"Times,serif\" font-size=\"14.00\">main/stage_out_0</text>\n",
       "</g>\n",
       "<!-- main/app&#45;&gt;main/stage_out_0 -->\n",
       "<g id=\"edge2\" class=\"edge\">\n",
       "<title>main/app&#45;&gt;main/stage_out_0</title>\n",
       "<path fill=\"none\" stroke=\"black\" d=\"M480.71,-185.49C665.2,-170.32 925.76,-148.88 1056.11,-138.15\"/>\n",
       "<polygon fill=\"black\" stroke=\"black\" points=\"1056.73,-141.62 1066.41,-137.31 1056.16,-134.64 1056.73,-141.62\"/>\n",
       "</g>\n",
       "<!-- main/water_bodies -->\n",
       "<g id=\"node15\" class=\"node\">\n",
       "<title>main/water_bodies</title>\n",
       "<polygon fill=\"#94ddf4\" stroke=\"black\" points=\"1061.5,-39.5 1061.5,-75.5 1212.5,-75.5 1212.5,-39.5 1061.5,-39.5\"/>\n",
       "<text text-anchor=\"middle\" x=\"1137\" y=\"-53.8\" font-family=\"Times,serif\" font-size=\"14.00\">main/water_bodies</text>\n",
       "</g>\n",
       "<!-- main/stage_out_0&#45;&gt;main/water_bodies -->\n",
       "<g id=\"edge14\" class=\"edge\">\n",
       "<title>main/stage_out_0&#45;&gt;main/water_bodies</title>\n",
       "<path fill=\"none\" stroke=\"black\" d=\"M1137,-112.31C1137,-104.29 1137,-94.55 1137,-85.57\"/>\n",
       "<polygon fill=\"black\" stroke=\"black\" points=\"1140.5,-85.53 1137,-75.53 1133.5,-85.53 1140.5,-85.53\"/>\n",
       "</g>\n",
       "<!-- main/aoi -->\n",
       "<g id=\"node4\" class=\"node\">\n",
       "<title>main/aoi</title>\n",
       "<polygon fill=\"#94ddf4\" stroke=\"black\" points=\"16.5,-334.5 16.5,-370.5 93.5,-370.5 93.5,-334.5 16.5,-334.5\"/>\n",
       "<text text-anchor=\"middle\" x=\"55\" y=\"-348.8\" font-family=\"Times,serif\" font-size=\"14.00\">main/aoi</text>\n",
       "</g>\n",
       "<!-- main/aoi&#45;&gt;main/app -->\n",
       "<g id=\"edge3\" class=\"edge\">\n",
       "<title>main/aoi&#45;&gt;main/app</title>\n",
       "<path fill=\"none\" stroke=\"black\" d=\"M69.99,-334.19C78.99,-324.38 90.99,-312.26 103,-303 142.86,-272.28 193.27,-244.39 229,-226.19\"/>\n",
       "<polygon fill=\"black\" stroke=\"black\" points=\"230.86,-229.18 238.21,-221.55 227.71,-222.92 230.86,-229.18\"/>\n",
       "</g>\n",
       "<!-- main/bands -->\n",
       "<g id=\"node5\" class=\"node\">\n",
       "<title>main/bands</title>\n",
       "<polygon fill=\"#94ddf4\" stroke=\"black\" points=\"111.5,-334.5 111.5,-370.5 210.5,-370.5 210.5,-334.5 111.5,-334.5\"/>\n",
       "<text text-anchor=\"middle\" x=\"161\" y=\"-348.8\" font-family=\"Times,serif\" font-size=\"14.00\">main/bands</text>\n",
       "</g>\n",
       "<!-- main/bands&#45;&gt;main/app -->\n",
       "<g id=\"edge4\" class=\"edge\">\n",
       "<title>main/bands&#45;&gt;main/app</title>\n",
       "<path fill=\"none\" stroke=\"black\" d=\"M174.18,-334.35C194,-308.57 231.59,-259.67 254.56,-229.79\"/>\n",
       "<polygon fill=\"black\" stroke=\"black\" points=\"257.58,-231.6 260.9,-221.54 252.03,-227.34 257.58,-231.6\"/>\n",
       "</g>\n",
       "<!-- main/epsg -->\n",
       "<g id=\"node6\" class=\"node\">\n",
       "<title>main/epsg</title>\n",
       "<polygon fill=\"#94ddf4\" stroke=\"black\" points=\"229,-334.5 229,-370.5 319,-370.5 319,-334.5 229,-334.5\"/>\n",
       "<text text-anchor=\"middle\" x=\"274\" y=\"-348.8\" font-family=\"Times,serif\" font-size=\"14.00\">main/epsg</text>\n",
       "</g>\n",
       "<!-- main/epsg&#45;&gt;main/app -->\n",
       "<g id=\"edge5\" class=\"edge\">\n",
       "<title>main/epsg&#45;&gt;main/app</title>\n",
       "<path fill=\"none\" stroke=\"black\" d=\"M274,-334.35C274,-309.12 274,-261.76 274,-231.74\"/>\n",
       "<polygon fill=\"black\" stroke=\"black\" points=\"277.5,-231.54 274,-221.54 270.5,-231.54 277.5,-231.54\"/>\n",
       "</g>\n",
       "<!-- main/another_input -->\n",
       "<g id=\"node7\" class=\"node\">\n",
       "<title>main/another_input</title>\n",
       "<polygon fill=\"#94ddf4\" stroke=\"black\" points=\"337,-334.5 337,-370.5 493,-370.5 493,-334.5 337,-334.5\"/>\n",
       "<text text-anchor=\"middle\" x=\"415\" y=\"-348.8\" font-family=\"Times,serif\" font-size=\"14.00\">main/another_input</text>\n",
       "</g>\n",
       "<!-- main/another_input&#45;&gt;main/directory_stage_in_0 -->\n",
       "<g id=\"edge6\" class=\"edge\">\n",
       "<title>main/another_input&#45;&gt;main/directory_stage_in_0</title>\n",
       "<path fill=\"none\" stroke=\"black\" d=\"M415,-334.34C415,-325.56 415,-314.66 415,-304.77\"/>\n",
       "<polygon fill=\"black\" stroke=\"black\" points=\"418.5,-304.57 415,-294.57 411.5,-304.57 418.5,-304.57\"/>\n",
       "</g>\n",
       "<!-- main/item -->\n",
       "<g id=\"node8\" class=\"node\">\n",
       "<title>main/item</title>\n",
       "<polygon fill=\"#94ddf4\" stroke=\"black\" points=\"511.5,-334.5 511.5,-370.5 600.5,-370.5 600.5,-334.5 511.5,-334.5\"/>\n",
       "<text text-anchor=\"middle\" x=\"556\" y=\"-348.8\" font-family=\"Times,serif\" font-size=\"14.00\">main/item</text>\n",
       "</g>\n",
       "<!-- main/item&#45;&gt;main/directory_stage_in_0 -->\n",
       "<g id=\"edge7\" class=\"edge\">\n",
       "<title>main/item&#45;&gt;main/directory_stage_in_0</title>\n",
       "<path fill=\"none\" stroke=\"black\" d=\"M540.49,-334.09C530.43,-323.74 516.53,-311.1 502,-303 499.27,-301.48 496.44,-300.04 493.54,-298.68\"/>\n",
       "<polygon fill=\"black\" stroke=\"black\" points=\"494.66,-295.35 484.09,-294.6 491.89,-301.78 494.66,-295.35\"/>\n",
       "</g>\n",
       "<!-- main/aws_access_key_id -->\n",
       "<g id=\"node9\" class=\"node\">\n",
       "<title>main/aws_access_key_id</title>\n",
       "<polygon fill=\"#94ddf4\" stroke=\"black\" points=\"618.5,-334.5 618.5,-370.5 807.5,-370.5 807.5,-334.5 618.5,-334.5\"/>\n",
       "<text text-anchor=\"middle\" x=\"713\" y=\"-348.8\" font-family=\"Times,serif\" font-size=\"14.00\">main/aws_access_key_id</text>\n",
       "</g>\n",
       "<!-- main/aws_access_key_id&#45;&gt;main/stage_out_0 -->\n",
       "<g id=\"edge8\" class=\"edge\">\n",
       "<title>main/aws_access_key_id&#45;&gt;main/stage_out_0</title>\n",
       "<path fill=\"none\" stroke=\"black\" d=\"M745.92,-334.42C822.15,-294.86 1010.73,-197.02 1095.07,-153.26\"/>\n",
       "<polygon fill=\"black\" stroke=\"black\" points=\"1096.84,-156.28 1104.1,-148.57 1093.61,-150.07 1096.84,-156.28\"/>\n",
       "</g>\n",
       "<!-- main/aws_secret_access_key -->\n",
       "<g id=\"node10\" class=\"node\">\n",
       "<title>main/aws_secret_access_key</title>\n",
       "<polygon fill=\"#94ddf4\" stroke=\"black\" points=\"826,-334.5 826,-370.5 1046,-370.5 1046,-334.5 826,-334.5\"/>\n",
       "<text text-anchor=\"middle\" x=\"936\" y=\"-348.8\" font-family=\"Times,serif\" font-size=\"14.00\">main/aws_secret_access_key</text>\n",
       "</g>\n",
       "<!-- main/aws_secret_access_key&#45;&gt;main/stage_out_0 -->\n",
       "<g id=\"edge9\" class=\"edge\">\n",
       "<title>main/aws_secret_access_key&#45;&gt;main/stage_out_0</title>\n",
       "<path fill=\"none\" stroke=\"black\" d=\"M951.77,-334.24C987.22,-295.44 1073.28,-201.24 1114.4,-156.23\"/>\n",
       "<polygon fill=\"black\" stroke=\"black\" points=\"1117.14,-158.43 1121.3,-148.68 1111.97,-153.7 1117.14,-158.43\"/>\n",
       "</g>\n",
       "<!-- main/endpoint_url -->\n",
       "<g id=\"node11\" class=\"node\">\n",
       "<title>main/endpoint_url</title>\n",
       "<polygon fill=\"#94ddf4\" stroke=\"black\" points=\"1064,-334.5 1064,-370.5 1210,-370.5 1210,-334.5 1064,-334.5\"/>\n",
       "<text text-anchor=\"middle\" x=\"1137\" y=\"-348.8\" font-family=\"Times,serif\" font-size=\"14.00\">main/endpoint_url</text>\n",
       "</g>\n",
       "<!-- main/endpoint_url&#45;&gt;main/stage_out_0 -->\n",
       "<g id=\"edge10\" class=\"edge\">\n",
       "<title>main/endpoint_url&#45;&gt;main/stage_out_0</title>\n",
       "<path fill=\"none\" stroke=\"black\" d=\"M1137,-334.24C1137,-296.16 1137,-204.73 1137,-158.8\"/>\n",
       "<polygon fill=\"black\" stroke=\"black\" points=\"1140.5,-158.68 1137,-148.68 1133.5,-158.68 1140.5,-158.68\"/>\n",
       "</g>\n",
       "<!-- main/region_name -->\n",
       "<g id=\"node12\" class=\"node\">\n",
       "<title>main/region_name</title>\n",
       "<polygon fill=\"#94ddf4\" stroke=\"black\" points=\"1228,-334.5 1228,-370.5 1376,-370.5 1376,-334.5 1228,-334.5\"/>\n",
       "<text text-anchor=\"middle\" x=\"1302\" y=\"-348.8\" font-family=\"Times,serif\" font-size=\"14.00\">main/region_name</text>\n",
       "</g>\n",
       "<!-- main/region_name&#45;&gt;main/stage_out_0 -->\n",
       "<g id=\"edge11\" class=\"edge\">\n",
       "<title>main/region_name&#45;&gt;main/stage_out_0</title>\n",
       "<path fill=\"none\" stroke=\"black\" d=\"M1289.05,-334.24C1260.08,-295.6 1189.89,-202.02 1155.97,-156.8\"/>\n",
       "<polygon fill=\"black\" stroke=\"black\" points=\"1158.69,-154.58 1149.89,-148.68 1153.09,-158.78 1158.69,-154.58\"/>\n",
       "</g>\n",
       "<!-- main/s3_bucket -->\n",
       "<g id=\"node13\" class=\"node\">\n",
       "<title>main/s3_bucket</title>\n",
       "<polygon fill=\"#94ddf4\" stroke=\"black\" points=\"1394,-334.5 1394,-370.5 1522,-370.5 1522,-334.5 1394,-334.5\"/>\n",
       "<text text-anchor=\"middle\" x=\"1458\" y=\"-348.8\" font-family=\"Times,serif\" font-size=\"14.00\">main/s3_bucket</text>\n",
       "</g>\n",
       "<!-- main/s3_bucket&#45;&gt;main/stage_out_0 -->\n",
       "<g id=\"edge12\" class=\"edge\">\n",
       "<title>main/s3_bucket&#45;&gt;main/stage_out_0</title>\n",
       "<path fill=\"none\" stroke=\"black\" d=\"M1433.08,-334.42C1375.96,-295.27 1235.54,-199.03 1170.75,-154.63\"/>\n",
       "<polygon fill=\"black\" stroke=\"black\" points=\"1172.35,-151.49 1162.13,-148.72 1168.4,-157.26 1172.35,-151.49\"/>\n",
       "</g>\n",
       "<!-- main/sub_path -->\n",
       "<g id=\"node14\" class=\"node\">\n",
       "<title>main/sub_path</title>\n",
       "<polygon fill=\"#94ddf4\" stroke=\"black\" points=\"1540.5,-334.5 1540.5,-370.5 1661.5,-370.5 1661.5,-334.5 1540.5,-334.5\"/>\n",
       "<text text-anchor=\"middle\" x=\"1601\" y=\"-348.8\" font-family=\"Times,serif\" font-size=\"14.00\">main/sub_path</text>\n",
       "</g>\n",
       "<!-- main/sub_path&#45;&gt;main/stage_out_0 -->\n",
       "<g id=\"edge13\" class=\"edge\">\n",
       "<title>main/sub_path&#45;&gt;main/stage_out_0</title>\n",
       "<path fill=\"none\" stroke=\"black\" d=\"M1578.71,-334.39C1565.31,-324.52 1547.66,-312.28 1531,-303 1415.84,-238.85 1271.96,-181.56 1193.86,-152.21\"/>\n",
       "<polygon fill=\"black\" stroke=\"black\" points=\"1194.8,-148.83 1184.2,-148.6 1192.34,-155.38 1194.8,-148.83\"/>\n",
       "</g>\n",
       "</g>\n",
       "</svg>\n"
      ],
      "text/plain": [
       "<graphviz.sources.Source at 0x7e1ed35c20d0>"
      ]
     },
     "execution_count": 8,
     "metadata": {},
     "output_type": "execute_result"
    }
   ],
   "source": [
    "wf = WorkflowViewer(cwl_file=app_cwl_file, workflow=wrapped, entrypoint=\"main\")\n",
    "\n",
    "wf.plot()"
   ]
  },
  {
   "cell_type": "markdown",
   "id": "03c6930e",
   "metadata": {},
   "source": [
    "### Workflow components diagram"
   ]
  },
  {
   "cell_type": "code",
   "execution_count": 9,
   "id": "cd4b348a",
   "metadata": {},
   "outputs": [
    {
     "data": {
      "image/png": "[encoded data removed]",
      "text/plain": [
       "<PIL.PngImagePlugin.PngImageFile image mode=P size=3129x1072>"
      ]
     },
     "metadata": {},
     "output_type": "display_data"
    }
   ],
   "source": [
    "wf.display_components_diagram()"
   ]
  },
  {
   "cell_type": "markdown",
   "id": "8f48f4d3",
   "metadata": {},
   "source": [
    "### Inputs"
   ]
  },
  {
   "cell_type": "code",
   "execution_count": 10,
   "id": "1505f319",
   "metadata": {},
   "outputs": [
    {
     "data": {
      "text/markdown": [
       "| Id | Type | Label | Doc |\n",
       "| --- | --- | --- | --- |\n",
       "| `aoi` | `string` | area of interest - pattern-1/aoi | area of interest as a bounding box - This parameter is derived from pattern-1/aoi |\n",
       "| `epsg` | `string` | EPSG code - pattern-1/epsg | EPSG code - This parameter is derived from pattern-1/epsg |\n",
       "| `bands` | `string[]` | bands used for the NDWI - pattern-1/bands | bands used for the NDWI - This parameter is derived from pattern-1/bands |\n",
       "| `another_input` | `string` | Another Input - my-asthonishing-stage-in-directory/another_input | An additional input for demonstration purposes - This parameter is derived from my-asthonishing-stage-in-directory/another_input |\n",
       "| `item` | `https://raw.githubusercontent.com/eoap/schemas/main/string_format.yaml#URI` | Landsat-8/9 acquisition reference - pattern-1/item | Landsat-8/9 acquisition reference - This parameter is derived from pattern-1/item |\n",
       "| `s3_bucket` | `string` | my-super-stage-out/s3_bucket | This parameter is derived from: my-super-stage-out/s3_bucket |\n",
       "| `sub_path` | `string` | my-super-stage-out/sub_path | This parameter is derived from: my-super-stage-out/sub_path |\n",
       "| `aws_access_key_id` | `string` | my-super-stage-out/aws_access_key_id | This parameter is derived from: my-super-stage-out/aws_access_key_id |\n",
       "| `aws_secret_access_key` | `string` | my-super-stage-out/aws_secret_access_key | This parameter is derived from: my-super-stage-out/aws_secret_access_key |\n",
       "| `region_name` | `string` | my-super-stage-out/region_name | This parameter is derived from: my-super-stage-out/region_name |\n",
       "| `endpoint_url` | `string` | my-super-stage-out/endpoint_url | This parameter is derived from: my-super-stage-out/endpoint_url |\n"
      ],
      "text/plain": [
       "<IPython.core.display.Markdown object>"
      ]
     },
     "metadata": {},
     "output_type": "display_data"
    }
   ],
   "source": [
    "wf.display_inputs()"
   ]
  },
  {
   "cell_type": "markdown",
   "id": "bb09c949",
   "metadata": {},
   "source": [
    "### Steps"
   ]
  },
  {
   "cell_type": "code",
   "execution_count": 11,
   "id": "5d2a4e59",
   "metadata": {},
   "outputs": [
    {
     "data": {
      "text/markdown": [
       "| Id | Runs | Label | Doc |\n",
       "| --- | --- | --- | --- |\n",
       "| `directory_stage_in_0` | `#my-asthonishing-stage-in-directory` | None | None |\n",
       "| `app` | `#pattern-1` | None | None |\n",
       "| `stage_out_0` | `#my-super-stage-out` | None | None |\n"
      ],
      "text/plain": [
       "<IPython.core.display.Markdown object>"
      ]
     },
     "metadata": {},
     "output_type": "display_data"
    }
   ],
   "source": [
    "wf.display_steps()"
   ]
  },
  {
   "cell_type": "markdown",
   "id": "2ea5bd60",
   "metadata": {},
   "source": [
    "### Outputs"
   ]
  },
  {
   "cell_type": "code",
   "execution_count": 12,
   "id": "abcdff15",
   "metadata": {},
   "outputs": [
    {
     "data": {
      "text/markdown": [
       "| Id | Type | Label | Doc |\n",
       "| --- | --- | --- | --- |\n",
       "| `water_bodies` | `https://raw.githubusercontent.com/eoap/schemas/main/string_format.yaml#URI` | Water bodies detected | Water bodies detected based on the NDWI and otsu threshold |\n"
      ],
      "text/plain": [
       "<IPython.core.display.Markdown object>"
      ]
     },
     "metadata": {},
     "output_type": "display_data"
    }
   ],
   "source": [
    "wf.display_outputs()"
   ]
  },
  {
   "cell_type": "markdown",
   "id": "900f06be",
   "metadata": {},
   "source": [
    "## Execution\n"
   ]
  },
  {
   "cell_type": "code",
   "execution_count": 13,
   "id": "24c48d88",
   "metadata": {},
   "outputs": [],
   "source": [
    "from cwltool.main import main\n",
    "from io import StringIO\n",
    "import argparse\n",
    "import yaml"
   ]
  },
  {
   "cell_type": "code",
   "execution_count": 14,
   "id": "b2929047",
   "metadata": {},
   "outputs": [],
   "source": [
    "params = {\n",
    "    \"aoi\": \"-118.985,38.432,-118.183,38.938\",\n",
    "    \"epsg\": \"EPSG:4326\",\n",
    "    \"bands\": [\"green\", \"nir08\"],\n",
    "    \"item\": {\n",
    "        \"class\": \"https://raw.githubusercontent.com/eoap/schemas/main/url.yaml#URL\",\n",
    "        \"value\": \"https://planetarycomputer.microsoft.com/api/stac/v1/collections/landsat-c2-l2/items/LC08_L2SP_042033_20231007_02_T1\",\n",
    "    },\n",
    "}\n",
    "additional_params = {\n",
    "    \"another_input\": \"some_value\",\n",
    "    \"s3_bucket\": \"my-bucket\",\n",
    "    \"sub_path\": \"my/sub/path\",\n",
    "    \"aws_access_key_id\": \"test\",\n",
    "    \"aws_secret_access_key\": \"test\",\n",
    "    \"region_name\": \"us-west-1\",\n",
    "    \"endpoint_url\": \"https://s3.us-west-1.amazonaws.com\",\n",
    "}\n",
    "\n",
    "with open(\".params.yaml\", \"w\") as f:\n",
    "    yaml.dump({**params, **additional_params}, f)"
   ]
  },
  {
   "cell_type": "code",
   "execution_count": 21,
   "id": "37bb7754",
   "metadata": {},
   "outputs": [
    {
     "data": {
      "text/markdown": [
       "\n",
       "\n",
       "### Inputs\n",
       "\n",
       "```json\n",
       "{\"aoi\": \"-118.985,38.432,-118.183,38.938\", \"epsg\": \"EPSG:4326\", \"bands\": [\"green\", \"nir08\"], \"item\": {\"class\": \"https://raw.githubusercontent.com/eoap/schemas/main/url.yaml#URL\", \"value\": \"https://planetarycomputer.microsoft.com/api/stac/v1/collections/landsat-c2-l2/items/LC08_L2SP_042033_20231007_02_T1\"}}\n",
       "```\n"
      ],
      "text/plain": [
       "<IPython.core.display.Markdown object>"
      ]
     },
     "metadata": {},
     "output_type": "display_data"
    }
   ],
   "source": [
    "md = f\"\"\"\n",
    "\n",
    "### Inputs\n",
    "\n",
    "```json\n",
    "{json.dumps(params)}\n",
    "```\n",
    "\"\"\"\n",
    "\n",
    "display(Markdown(md))"
   ]
  },
  {
   "cell_type": "code",
   "execution_count": 16,
   "id": "81dce561",
   "metadata": {},
   "outputs": [
    {
     "data": {
      "text/markdown": [
       "\n",
       "```json\n",
       "{\n",
       "    \"water_bodies\": {\n",
       "        \"value\": \"s3://my-bucket/my/sub/path-q5mw75/catalog.json\",\n",
       "        \"type\": \"https://raw.githubusercontent.com/eoap/schemas/main/string_format.yaml#URI\"\n",
       "    }\n",
       "}\n",
       "```\n"
      ],
      "text/plain": [
       "<IPython.core.display.Markdown object>"
      ]
     },
     "metadata": {},
     "output_type": "display_data"
    }
   ],
   "source": [
    "parsed_args = argparse.Namespace(\n",
    "    podman=False,\n",
    "    debug=False,\n",
    "    validate=False,\n",
    "    outdir=\"./runs\",\n",
    "    workflow=f\"{app_cwl_file}#main\",\n",
    "    job_order=[\".params.yaml\"],\n",
    ")\n",
    "\n",
    "stream_out = StringIO()\n",
    "stream_err = StringIO()\n",
    "\n",
    "res = main(\n",
    "    args=parsed_args,\n",
    "    stdout=stream_out,\n",
    "    stderr=stream_err,\n",
    ")\n",
    "\n",
    "assert res == 0\n",
    "\n",
    "md = f\"\"\"\n",
    "\n",
    "### Outputs\n",
    "\n",
    "```json\n",
    "{stream_out.getvalue()}\n",
    "```\n",
    "\"\"\"\n",
    "\n",
    "display(Markdown(md))"
   ]
  },
  {
   "cell_type": "markdown",
   "id": "d0accb70",
   "metadata": {},
   "source": []
  },
  {
   "cell_type": "code",
   "execution_count": null,
   "id": "e44ab947",
   "metadata": {},
   "outputs": [],
   "source": []
  }
 ],
 "metadata": {
  "kernelspec": {
   "display_name": ".venv",
   "language": "python",
   "name": "python3"
  },
  "language_info": {
   "codemirror_mode": {
    "name": "ipython",
    "version": 3
   },
   "file_extension": ".py",
   "mimetype": "text/x-python",
   "name": "python",
   "nbconvert_exporter": "python",
   "pygments_lexer": "ipython3",
   "version": "3.13.6"
  }
 },
 "nbformat": 4,
 "nbformat_minor": 5
}
