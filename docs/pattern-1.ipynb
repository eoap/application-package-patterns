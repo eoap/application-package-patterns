{
 "cells": [
  {
   "cell_type": "code",
   "execution_count": 1,
   "id": "49711fee",
   "metadata": {},
   "outputs": [
    {
     "ename": "ModuleNotFoundError",
     "evalue": "No module named 'yaml'",
     "output_type": "error",
     "traceback": [
      "\u001b[31m---------------------------------------------------------------------------\u001b[39m",
      "\u001b[31mModuleNotFoundError\u001b[39m                       Traceback (most recent call last)",
      "\u001b[36mCell\u001b[39m\u001b[36m \u001b[39m\u001b[32mIn[1]\u001b[39m\u001b[32m, line 18\u001b[39m\n\u001b[32m     15\u001b[39m     module_path = os.path.abspath(os.path.join(\u001b[33m'\u001b[39m\u001b[33m.\u001b[39m\u001b[33m'\u001b[39m)) \u001b[38;5;66;03m# or the path to your source code\u001b[39;00m\n\u001b[32m     16\u001b[39m     sys.path.insert(\u001b[32m0\u001b[39m, module_path)\n\u001b[32m---> \u001b[39m\u001b[32m18\u001b[39m \u001b[38;5;28;01mfrom\u001b[39;00m\u001b[38;5;250m \u001b[39m\u001b[34;01mhelpers\u001b[39;00m\u001b[38;5;250m \u001b[39m\u001b[38;5;28;01mimport\u001b[39;00m WorkflowViewer, WorkflowWrapper\n\u001b[32m     19\u001b[39m \u001b[38;5;28;01mfrom\u001b[39;00m\u001b[38;5;250m \u001b[39m\u001b[34;01mcwl_loader\u001b[39;00m\u001b[38;5;250m \u001b[39m\u001b[38;5;28;01mimport\u001b[39;00m dump_cwl\n\u001b[32m     20\u001b[39m \u001b[38;5;28;01mfrom\u001b[39;00m\u001b[38;5;250m \u001b[39m\u001b[34;01mpathlib\u001b[39;00m\u001b[38;5;250m \u001b[39m\u001b[38;5;28;01mimport\u001b[39;00m Path\n",
      "\u001b[36mFile \u001b[39m\u001b[32m~/Documents/workspace/application-package-patterns/docs/helpers.py:3\u001b[39m\n\u001b[32m      2\u001b[39m \u001b[38;5;28;01mimport\u001b[39;00m\u001b[38;5;250m \u001b[39m\u001b[34;01mgraphviz\u001b[39;00m\n\u001b[32m----> \u001b[39m\u001b[32m3\u001b[39m \u001b[38;5;28;01mimport\u001b[39;00m\u001b[38;5;250m \u001b[39m\u001b[34;01myaml\u001b[39;00m\n\u001b[32m      4\u001b[39m \u001b[38;5;28;01mfrom\u001b[39;00m\u001b[38;5;250m \u001b[39m\u001b[34;01mcwl2puml\u001b[39;00m\u001b[38;5;250m \u001b[39m\u001b[38;5;28;01mimport\u001b[39;00m (\n\u001b[32m      5\u001b[39m     to_puml,\n\u001b[32m      6\u001b[39m     DiagramType\n\u001b[32m      7\u001b[39m )\n\u001b[32m      8\u001b[39m \u001b[38;5;28;01mfrom\u001b[39;00m\u001b[38;5;250m \u001b[39m\u001b[34;01mcwltool\u001b[39;00m\u001b[34;01m.\u001b[39;00m\u001b[34;01mmain\u001b[39;00m\u001b[38;5;250m \u001b[39m\u001b[38;5;28;01mimport\u001b[39;00m main \u001b[38;5;28;01mas\u001b[39;00m cwlmain\n",
      "\u001b[31mModuleNotFoundError\u001b[39m: No module named 'yaml'"
     ]
    }
   ],
   "source": [
    "%load_ext autoreload\n",
    "%autoreload 2\n",
    "\n",
    "pattern = \"pattern-1\"\n",
    "\n",
    "entrypoint = pattern\n",
    "app_cwl_file = f'../cwl-workflow/{pattern}.cwl'\n",
    "\n",
    "try: \n",
    "    from docs.helpers import plot_cwl, wrap_cwl\n",
    "except (ImportError, ModuleNotFoundError) as e:\n",
    "\n",
    "    import os\n",
    "    import sys\n",
    "    module_path = os.path.abspath(os.path.join('.')) # or the path to your source code\n",
    "    sys.path.insert(0, module_path)\n",
    "\n",
    "from helpers import WorkflowViewer, WorkflowWrapper\n",
    "from cwl_loader import dump_cwl\n",
    "from pathlib import Path"
   ]
  },
  {
   "cell_type": "code",
   "execution_count": null,
   "id": "384acc8b",
   "metadata": {},
   "outputs": [],
   "source": [
    "\n",
    "wf = WorkflowViewer(app_cwl_file, entrypoint=entrypoint)"
   ]
  },
  {
   "cell_type": "markdown",
   "id": "9a0e0139",
   "metadata": {},
   "source": [
    "## Application Package Pattern \n",
    "\n",
    "The CWL includes: \n",
    "\n",
    "- one input parameter of type `Directory`\n",
    "- one output parameter of type `Directory`\n",
    "\n",
    "This scenario typically takes one input, applies an algorithm and produces a result\n",
    "\n",
    "Implementation: delineate water bodies using NDWI and Otsu automatic threshold taking as input a Landsat-8/9 acquisition"
   ]
  },
  {
   "cell_type": "code",
   "execution_count": null,
   "id": "b72822ec",
   "metadata": {},
   "outputs": [],
   "source": [
    "wf.plot()"
   ]
  },
  {
   "cell_type": "markdown",
   "id": "485b5d93",
   "metadata": {},
   "source": [
    "### Inputs"
   ]
  },
  {
   "cell_type": "code",
   "execution_count": null,
   "id": "1f48503f",
   "metadata": {},
   "outputs": [],
   "source": [
    "wf.display_inputs()"
   ]
  },
  {
   "cell_type": "markdown",
   "id": "3a8f25c8",
   "metadata": {},
   "source": [
    "### Steps"
   ]
  },
  {
   "cell_type": "code",
   "execution_count": null,
   "id": "754d5444",
   "metadata": {},
   "outputs": [],
   "source": [
    "wf.display_steps()"
   ]
  },
  {
   "cell_type": "markdown",
   "id": "d5e08fbb",
   "metadata": {},
   "source": [
    "### Outputs"
   ]
  },
  {
   "cell_type": "code",
   "execution_count": null,
   "id": "9d819c9d",
   "metadata": {},
   "outputs": [],
   "source": [
    "wf.display_outputs()"
   ]
  },
  {
   "cell_type": "markdown",
   "id": "5ee7cc28",
   "metadata": {},
   "source": [
    "## Data flow management"
   ]
  },
  {
   "cell_type": "code",
   "execution_count": null,
   "id": "28b9c9ce",
   "metadata": {},
   "outputs": [],
   "source": [
    "w = WorkflowWrapper(app_cwl_file, entrypoint=entrypoint)\n",
    "output_path = Path(f\".{entrypoint}.cwl\")\n",
    "with output_path.open(\"w\") as f:\n",
    "     dump_cwl(w.wrap(), f)"
   ]
  },
  {
   "cell_type": "code",
   "execution_count": null,
   "id": "3e868052",
   "metadata": {},
   "outputs": [],
   "source": [
    "app_cwl_file = f'.{entrypoint}.cwl'\n",
    "\n",
    "wf = WorkflowViewer(app_cwl_file, entrypoint=\"main\")"
   ]
  },
  {
   "cell_type": "code",
   "execution_count": null,
   "id": "d246e996",
   "metadata": {},
   "outputs": [],
   "source": [
    "wf.plot()"
   ]
  },
  {
   "cell_type": "markdown",
   "id": "03c6930e",
   "metadata": {},
   "source": [
    "### Workflow components diagram"
   ]
  },
  {
   "cell_type": "code",
   "execution_count": null,
   "id": "cd4b348a",
   "metadata": {},
   "outputs": [],
   "source": [
    "wf.display_components_diagram()"
   ]
  },
  {
   "cell_type": "markdown",
   "id": "8f48f4d3",
   "metadata": {},
   "source": [
    "### Inputs"
   ]
  },
  {
   "cell_type": "code",
   "execution_count": null,
   "id": "1505f319",
   "metadata": {},
   "outputs": [],
   "source": [
    "wf.display_inputs()"
   ]
  },
  {
   "cell_type": "markdown",
   "id": "bb09c949",
   "metadata": {},
   "source": [
    "### Steps"
   ]
  },
  {
   "cell_type": "code",
   "execution_count": null,
   "id": "5d2a4e59",
   "metadata": {},
   "outputs": [],
   "source": [
    "wf.display_steps()"
   ]
  },
  {
   "cell_type": "markdown",
   "id": "2ea5bd60",
   "metadata": {},
   "source": [
    "### Outputs"
   ]
  },
  {
   "cell_type": "code",
   "execution_count": null,
   "id": "abcdff15",
   "metadata": {},
   "outputs": [],
   "source": [
    "wf.display_outputs()"
   ]
  }
 ],
 "metadata": {
  "kernelspec": {
   "display_name": ".venv",
   "language": "python",
   "name": "python3"
  },
  "language_info": {
   "codemirror_mode": {
    "name": "ipython",
    "version": 3
   },
   "file_extension": ".py",
   "mimetype": "text/x-python",
   "name": "python",
   "nbconvert_exporter": "python",
   "pygments_lexer": "ipython3",
   "version": "3.13.6"
  }
 },
 "nbformat": 4,
 "nbformat_minor": 5
}
