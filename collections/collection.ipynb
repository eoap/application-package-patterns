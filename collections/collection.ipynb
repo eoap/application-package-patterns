{
 "cells": [
  {
   "cell_type": "code",
   "execution_count": 5,
   "id": "ceb2b0f8",
   "metadata": {},
   "outputs": [],
   "source": [
    "import pystac\n",
    "from datetime import datetime"
   ]
  },
  {
   "cell_type": "code",
   "execution_count": 6,
   "id": "f9cda85f",
   "metadata": {},
   "outputs": [],
   "source": [
    "def create_stac_collection(collection_id: str, description: str, title: str) -> pystac.Collection:\n",
    "    # create a STAC collection for the process\n",
    "    collection_id = collection_id\n",
    "    date = datetime.now().strftime(\"%Y-%m-%d\")\n",
    "\n",
    "    dates = [\n",
    "        datetime.strptime(f\"{date}T00:00:00\", \"%Y-%m-%dT%H:%M:%S\"),\n",
    "        datetime.strptime(f\"{date}T23:59:59\", \"%Y-%m-%dT%H:%M:%S\"),\n",
    "    ]\n",
    "\n",
    "    collection = pystac.Collection(\n",
    "        id=collection_id,\n",
    "        description=description,\n",
    "        extent=pystac.Extent(\n",
    "            spatial=pystac.SpatialExtent([[-180, -90, 180, 90]]),\n",
    "            temporal=pystac.TemporalExtent(intervals=[[min(dates), max(dates)]]),\n",
    "        ),\n",
    "        title=title,\n",
    "        #href=f\"s3://{bucket}/{subfolder}/collection.json\",\n",
    "        stac_extensions=[\"https://stac-extensions.github.io/processing/v1.0.0/schema.json\"],\n",
    "        keywords=[],\n",
    "        license=\"proprietary\",\n",
    "    )\n",
    "\n",
    "    return collection"
   ]
  },
  {
   "cell_type": "code",
   "execution_count": 7,
   "id": "f13fd9f3",
   "metadata": {},
   "outputs": [],
   "source": [
    "cropped_collection = create_stac_collection(\n",
    "    collection_id=\"cropped-bands\",\n",
    "    description=\"Cropped nir08 and green bands\",\n",
    "    title=\"Cropped Bands\",\n",
    "\n",
    ")\n",
    "pystac.write_file(cropped_collection, dest_href=\"./cropped_collection.json\")\n"
   ]
  },
  {
   "cell_type": "code",
   "execution_count": 8,
   "id": "d0f85728",
   "metadata": {},
   "outputs": [],
   "source": [
    "ndi_collection = create_stac_collection(\n",
    "    collection_id=\"normalized-difference\",\n",
    "    description=\"Normalized difference index collection\",\n",
    "    title=\"Normalized Difference Index\",\n",
    ")\n",
    "pystac.write_file(ndi_collection, dest_href=\"./ndi_collection.json\")"
   ]
  },
  {
   "cell_type": "code",
   "execution_count": 9,
   "id": "d021b68b",
   "metadata": {},
   "outputs": [],
   "source": [
    "water_bodies_collection = create_stac_collection(\n",
    "    collection_id=\"water-bodies\",\n",
    "    description=\"Detected water bodies collection\",\n",
    "    title=\"Detected Water Bodies\",\n",
    ")\n",
    "pystac.write_file(water_bodies_collection, dest_href=\"./water_bodies_collection.json\")"
   ]
  },
  {
   "cell_type": "code",
   "execution_count": null,
   "id": "c4a05e78",
   "metadata": {},
   "outputs": [],
   "source": []
  },
  {
   "cell_type": "code",
   "execution_count": null,
   "id": "7fc6a769",
   "metadata": {},
   "outputs": [],
   "source": []
  }
 ],
 "metadata": {
  "kernelspec": {
   "display_name": "patterns (3.13.1)",
   "language": "python",
   "name": "python3"
  },
  "language_info": {
   "codemirror_mode": {
    "name": "ipython",
    "version": 3
   },
   "file_extension": ".py",
   "mimetype": "text/x-python",
   "name": "python",
   "nbconvert_exporter": "python",
   "pygments_lexer": "ipython3",
   "version": "3.13.1"
  }
 },
 "nbformat": 4,
 "nbformat_minor": 5
}
