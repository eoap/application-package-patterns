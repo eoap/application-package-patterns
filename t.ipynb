{
 "cells": [
  {
   "cell_type": "code",
   "execution_count": 17,
   "metadata": {},
   "outputs": [],
   "source": [
    "from cwltool.main import main as cwlmain\n",
    "from cwltool.context import LoadingContext, RuntimeContext\n",
    "from cwltool.executors import NoopJobExecutor\n",
    "#from cwltool.factory import versionstring\n",
    "import sys\n",
    "from io import StringIO\n",
    "\n",
    "def validate_with_cwltool(path: str) -> int:\n",
    "    args = [\"--validate\", path]\n",
    "\n",
    "    loading_context = LoadingContext()\n",
    "    runtime_context = RuntimeContext()\n",
    "\n",
    "    # No executor needed for validation only, but Noop is safe\n",
    "    executor = NoopJobExecutor()\n",
    "\n",
    "    stream_out = StringIO()\n",
    "    stream_err = StringIO()\n",
    "\n",
    "    # Call cwltool.main like the CLI does\n",
    "    result = cwlmain(\n",
    "        args,\n",
    "        stderr=stream_err,\n",
    "        executor=executor,\n",
    "        loadingContext=loading_context,\n",
    "        runtimeContext=runtime_context,\n",
    "    )\n",
    "\n",
    "    if result != 0:\n",
    "        raise RuntimeError(f\"Validation failed with exit code {stream_err.getvalue()}\")"
   ]
  },
  {
   "cell_type": "code",
   "execution_count": 18,
   "metadata": {},
   "outputs": [
    {
     "name": "stdout",
     "output_type": "stream",
     "text": [
      "\u001b[1;30mINFO\u001b[0m /home/fbrito/.local/share/hatch/env/virtual/patterns/VcrZkRRN/patterns/lib/python3.13/site-packages/ipykernel_launcher.py 3.1.20250110105449\n",
      "\u001b[1;30mINFO\u001b[0m Resolved '/data/work/github/eoap/application-package-patterns/cwl-workflow/pattern-1.cwl' to 'file:///data/work/github/eoap/application-package-patterns/cwl-workflow/pattern-1.cwl'\n",
      "\u001b[1;30mERROR\u001b[0m \u001b[31mTool definition failed validation:\n",
      "cwl-workflow/pattern-1.cwl:8:5:  checking object 'cwl-workflow/pattern-1.cwl#main'\n",
      "cwl-workflow/pattern-1.cwl:13:5:   checking field 'inputs'\n",
      "cwl-workflow/pattern-1.cwl:14:7:     checking object 'cwl-workflow/pattern-1.cwl#main/aoi'\n",
      "cwl-workflow/pattern-1.cwl:17:9:       Field 'type' references unknown identifier 'stringaa', tried\n",
      "                                       file:///data/work/github/eoap/application-package-patterns/cwl-workflow/pattern-1.cwl#stringaa\u001b[0m\n"
     ]
    },
    {
     "ename": "RuntimeError",
     "evalue": "Validation failed with exit code ",
     "output_type": "error",
     "traceback": [
      "\u001b[31m---------------------------------------------------------------------------\u001b[39m",
      "\u001b[31mRuntimeError\u001b[39m                              Traceback (most recent call last)",
      "\u001b[36mCell\u001b[39m\u001b[36m \u001b[39m\u001b[32mIn[18]\u001b[39m\u001b[32m, line 1\u001b[39m\n\u001b[32m----> \u001b[39m\u001b[32m1\u001b[39m \u001b[43mvalidate_with_cwltool\u001b[49m\u001b[43m(\u001b[49m\u001b[33;43m\"\u001b[39;49m\u001b[33;43m/data/work/github/eoap/application-package-patterns/cwl-workflow/pattern-1.cwl\u001b[39;49m\u001b[33;43m\"\u001b[39;49m\u001b[43m)\u001b[49m\n",
      "\u001b[36mCell\u001b[39m\u001b[36m \u001b[39m\u001b[32mIn[17]\u001b[39m\u001b[32m, line 31\u001b[39m, in \u001b[36mvalidate_with_cwltool\u001b[39m\u001b[34m(path)\u001b[39m\n\u001b[32m     21\u001b[39m result = cwlmain(\n\u001b[32m     22\u001b[39m     args,\n\u001b[32m     23\u001b[39m     stderr=stream_err,\n\u001b[32m   (...)\u001b[39m\u001b[32m     27\u001b[39m     \u001b[38;5;66;03m#versionfunc=versionstring,\u001b[39;00m\n\u001b[32m     28\u001b[39m )\n\u001b[32m     30\u001b[39m \u001b[38;5;28;01mif\u001b[39;00m result != \u001b[32m0\u001b[39m:\n\u001b[32m---> \u001b[39m\u001b[32m31\u001b[39m     \u001b[38;5;28;01mraise\u001b[39;00m \u001b[38;5;167;01mRuntimeError\u001b[39;00m(\u001b[33mf\u001b[39m\u001b[33m\"\u001b[39m\u001b[33mValidation failed with exit code \u001b[39m\u001b[38;5;132;01m{\u001b[39;00mstream_err.getvalue()\u001b[38;5;132;01m}\u001b[39;00m\u001b[33m\"\u001b[39m)\n",
      "\u001b[31mRuntimeError\u001b[39m: Validation failed with exit code "
     ]
    }
   ],
   "source": [
    "validate_with_cwltool(\"/data/work/github/eoap/application-package-patterns/cwl-workflow/pattern-1.cwl\")"
   ]
  },
  {
   "cell_type": "code",
   "execution_count": 25,
   "metadata": {},
   "outputs": [],
   "source": [
    "import tempfile\n",
    "import ruamel.yaml\n",
    "from cwltool.main import main as cwlmain\n",
    "from cwltool.context import LoadingContext, RuntimeContext\n",
    "from cwltool.executors import NoopJobExecutor\n",
    "#from cwltool.factory import versionstring\n",
    "\n",
    "def validate_cwl_dict(cwl_dict) -> int:\n",
    "    with tempfile.NamedTemporaryFile(suffix=\".cwl\", mode=\"w\", delete=True) as tmp:\n",
    "        yaml = ruamel.yaml.YAML()\n",
    "        yaml.dump(cwl_dict, tmp)\n",
    "        tmp.flush()\n",
    "\n",
    "        args = [\"--validate\", tmp.name]\n",
    "\n",
    "        stream_err = StringIO()\n",
    "        stream_out = StringIO()\n",
    "\n",
    "        result = cwlmain(\n",
    "            args,\n",
    "            stdout=stream_out,\n",
    "            stderr=stream_err,\n",
    "            executor=NoopJobExecutor(),\n",
    "            loadingContext=LoadingContext(),\n",
    "            runtimeContext=RuntimeContext(),\n",
    "            #versionfunc=versionstring,\n",
    "        )\n",
    "        if result != 0:\n",
    "            print(stream_out.getvalue())\n",
    "            raise RuntimeError(f\"Validation failed with exit code {result}\")"
   ]
  },
  {
   "cell_type": "code",
   "execution_count": 26,
   "metadata": {},
   "outputs": [
    {
     "name": "stdout",
     "output_type": "stream",
     "text": [
      "\u001b[1;30mINFO\u001b[0m /home/fbrito/.local/share/hatch/env/virtual/patterns/VcrZkRRN/patterns/lib/python3.13/site-packages/ipykernel_launcher.py 3.1.20250110105449\n",
      "\u001b[1;30mINFO\u001b[0m Resolved '/tmp/tmpno9vu6zb.cwl' to 'file:///tmp/tmpno9vu6zb.cwl'\n",
      "\u001b[1;30mERROR\u001b[0m \u001b[31mTool definition failed validation:\n",
      "../../../../../tmp/tmpno9vu6zb.cwl:8:3:  checking object '../../../../../tmp/tmpno9vu6zb.cwl#main'\n",
      "../../../../../tmp/tmpno9vu6zb.cwl:14:3:   checking field 'inputs'\n",
      "../../../../../tmp/tmpno9vu6zb.cwl:15:5:     checking object\n",
      "                                             '../../../../../tmp/tmpno9vu6zb.cwl#main/aoi'\n",
      "../../../../../tmp/tmpno9vu6zb.cwl:18:7:       Field 'type' references unknown identifier\n",
      "                                               'stringaa', tried file:///tmp/tmpno9vu6zb.cwl#stringaa\u001b[0m\n",
      "\n"
     ]
    },
    {
     "ename": "RuntimeError",
     "evalue": "Validation failed with exit code ",
     "output_type": "error",
     "traceback": [
      "\u001b[31m---------------------------------------------------------------------------\u001b[39m",
      "\u001b[31mRuntimeError\u001b[39m                              Traceback (most recent call last)",
      "\u001b[36mCell\u001b[39m\u001b[36m \u001b[39m\u001b[32mIn[26]\u001b[39m\u001b[32m, line 7\u001b[39m\n\u001b[32m      4\u001b[39m \u001b[38;5;28;01mwith\u001b[39;00m \u001b[38;5;28mopen\u001b[39m(\u001b[33m\"\u001b[39m\u001b[33m/data/work/github/eoap/application-package-patterns/cwl-workflow/pattern-1.cwl\u001b[39m\u001b[33m\"\u001b[39m) \u001b[38;5;28;01mas\u001b[39;00m f:\n\u001b[32m      5\u001b[39m     cwl_dict = yaml.safe_load(f)\n\u001b[32m----> \u001b[39m\u001b[32m7\u001b[39m \u001b[43mvalidate_cwl_dict\u001b[49m\u001b[43m(\u001b[49m\u001b[43mcwl_dict\u001b[49m\u001b[43m)\u001b[49m\n",
      "\u001b[36mCell\u001b[39m\u001b[36m \u001b[39m\u001b[32mIn[25]\u001b[39m\u001b[32m, line 30\u001b[39m, in \u001b[36mvalidate_cwl_dict\u001b[39m\u001b[34m(cwl_dict)\u001b[39m\n\u001b[32m     28\u001b[39m \u001b[38;5;28;01mif\u001b[39;00m result != \u001b[32m0\u001b[39m:\n\u001b[32m     29\u001b[39m     \u001b[38;5;28mprint\u001b[39m(stream_out.getvalue())\n\u001b[32m---> \u001b[39m\u001b[32m30\u001b[39m     \u001b[38;5;28;01mraise\u001b[39;00m \u001b[38;5;167;01mRuntimeError\u001b[39;00m(\u001b[33mf\u001b[39m\u001b[33m\"\u001b[39m\u001b[33mValidation failed with exit code \u001b[39m\u001b[38;5;132;01m{\u001b[39;00mstream_err.getvalue()\u001b[38;5;132;01m}\u001b[39;00m\u001b[33m\"\u001b[39m)\n",
      "\u001b[31mRuntimeError\u001b[39m: Validation failed with exit code "
     ]
    }
   ],
   "source": [
    "import yaml\n",
    "\n",
    "# Load CWL as a dict\n",
    "with open(\"/data/work/github/eoap/application-package-patterns/cwl-workflow/pattern-1.cwl\") as f:\n",
    "    cwl_dict = yaml.safe_load(f)\n",
    "\n",
    "validate_cwl_dict(cwl_dict)"
   ]
  },
  {
   "cell_type": "code",
   "execution_count": null,
   "metadata": {},
   "outputs": [],
   "source": []
  }
 ],
 "metadata": {
  "kernelspec": {
   "display_name": "patterns",
   "language": "python",
   "name": "python3"
  },
  "language_info": {
   "codemirror_mode": {
    "name": "ipython",
    "version": 3
   },
   "file_extension": ".py",
   "mimetype": "text/x-python",
   "name": "python",
   "nbconvert_exporter": "python",
   "pygments_lexer": "ipython3",
   "version": "3.13.1"
  }
 },
 "nbformat": 4,
 "nbformat_minor": 2
}
